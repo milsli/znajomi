{
 "cells": [
  {
   "cell_type": "code",
   "execution_count": 1,
   "id": "fe11de11-7666-4835-89b9-5a63e4615d3e",
   "metadata": {},
   "outputs": [],
   "source": [
    "import pandas as pd  # type: ignore\n",
    "from openai import OpenAI\n",
    "from dotenv import dotenv_values\n",
    "import json\n",
    "from pycaret.clustering import load_model, predict_model, setup, create_model, assign_model, save_model"
   ]
  },
  {
   "cell_type": "code",
   "execution_count": 3,
   "id": "748aed0a-eef8-4a05-a204-6395f1745c78",
   "metadata": {},
   "outputs": [],
   "source": [
    "env = dotenv_values(\".env\")\n",
    "openai_client = OpenAI(api_key=env[\"OPENAI_API_KEY\"])\n",
    "\n",
    "DATA = 'welcome_survey_simple_v2.csv'\n",
    "all_df = pd.read_csv(DATA, sep=';')"
   ]
  },
  {
   "cell_type": "code",
   "execution_count": 4,
   "id": "b5b26c9a-d2c1-4a91-970b-c7344a4391f8",
   "metadata": {},
   "outputs": [
    {
     "data": {
      "text/html": [
       "<style type=\"text/css\">\n",
       "#T_84771_row5_col1 {\n",
       "  background-color: lightgreen;\n",
       "}\n",
       "</style>\n",
       "<table id=\"T_84771\">\n",
       "  <thead>\n",
       "    <tr>\n",
       "      <th class=\"blank level0\" >&nbsp;</th>\n",
       "      <th id=\"T_84771_level0_col0\" class=\"col_heading level0 col0\" >Description</th>\n",
       "      <th id=\"T_84771_level0_col1\" class=\"col_heading level0 col1\" >Value</th>\n",
       "    </tr>\n",
       "  </thead>\n",
       "  <tbody>\n",
       "    <tr>\n",
       "      <th id=\"T_84771_level0_row0\" class=\"row_heading level0 row0\" >0</th>\n",
       "      <td id=\"T_84771_row0_col0\" class=\"data row0 col0\" >Session id</td>\n",
       "      <td id=\"T_84771_row0_col1\" class=\"data row0 col1\" >901</td>\n",
       "    </tr>\n",
       "    <tr>\n",
       "      <th id=\"T_84771_level0_row1\" class=\"row_heading level0 row1\" >1</th>\n",
       "      <td id=\"T_84771_row1_col0\" class=\"data row1 col0\" >Original data shape</td>\n",
       "      <td id=\"T_84771_row1_col1\" class=\"data row1 col1\" >(229, 5)</td>\n",
       "    </tr>\n",
       "    <tr>\n",
       "      <th id=\"T_84771_level0_row2\" class=\"row_heading level0 row2\" >2</th>\n",
       "      <td id=\"T_84771_row2_col0\" class=\"data row2 col0\" >Transformed data shape</td>\n",
       "      <td id=\"T_84771_row2_col1\" class=\"data row2 col1\" >(229, 21)</td>\n",
       "    </tr>\n",
       "    <tr>\n",
       "      <th id=\"T_84771_level0_row3\" class=\"row_heading level0 row3\" >3</th>\n",
       "      <td id=\"T_84771_row3_col0\" class=\"data row3 col0\" >Categorical features</td>\n",
       "      <td id=\"T_84771_row3_col1\" class=\"data row3 col1\" >5</td>\n",
       "    </tr>\n",
       "    <tr>\n",
       "      <th id=\"T_84771_level0_row4\" class=\"row_heading level0 row4\" >4</th>\n",
       "      <td id=\"T_84771_row4_col0\" class=\"data row4 col0\" >Rows with missing values</td>\n",
       "      <td id=\"T_84771_row4_col1\" class=\"data row4 col1\" >13.1%</td>\n",
       "    </tr>\n",
       "    <tr>\n",
       "      <th id=\"T_84771_level0_row5\" class=\"row_heading level0 row5\" >5</th>\n",
       "      <td id=\"T_84771_row5_col0\" class=\"data row5 col0\" >Preprocess</td>\n",
       "      <td id=\"T_84771_row5_col1\" class=\"data row5 col1\" >True</td>\n",
       "    </tr>\n",
       "    <tr>\n",
       "      <th id=\"T_84771_level0_row6\" class=\"row_heading level0 row6\" >6</th>\n",
       "      <td id=\"T_84771_row6_col0\" class=\"data row6 col0\" >Imputation type</td>\n",
       "      <td id=\"T_84771_row6_col1\" class=\"data row6 col1\" >simple</td>\n",
       "    </tr>\n",
       "    <tr>\n",
       "      <th id=\"T_84771_level0_row7\" class=\"row_heading level0 row7\" >7</th>\n",
       "      <td id=\"T_84771_row7_col0\" class=\"data row7 col0\" >Numeric imputation</td>\n",
       "      <td id=\"T_84771_row7_col1\" class=\"data row7 col1\" >mean</td>\n",
       "    </tr>\n",
       "    <tr>\n",
       "      <th id=\"T_84771_level0_row8\" class=\"row_heading level0 row8\" >8</th>\n",
       "      <td id=\"T_84771_row8_col0\" class=\"data row8 col0\" >Categorical imputation</td>\n",
       "      <td id=\"T_84771_row8_col1\" class=\"data row8 col1\" >mode</td>\n",
       "    </tr>\n",
       "    <tr>\n",
       "      <th id=\"T_84771_level0_row9\" class=\"row_heading level0 row9\" >9</th>\n",
       "      <td id=\"T_84771_row9_col0\" class=\"data row9 col0\" >Maximum one-hot encoding</td>\n",
       "      <td id=\"T_84771_row9_col1\" class=\"data row9 col1\" >-1</td>\n",
       "    </tr>\n",
       "    <tr>\n",
       "      <th id=\"T_84771_level0_row10\" class=\"row_heading level0 row10\" >10</th>\n",
       "      <td id=\"T_84771_row10_col0\" class=\"data row10 col0\" >Encoding method</td>\n",
       "      <td id=\"T_84771_row10_col1\" class=\"data row10 col1\" >None</td>\n",
       "    </tr>\n",
       "    <tr>\n",
       "      <th id=\"T_84771_level0_row11\" class=\"row_heading level0 row11\" >11</th>\n",
       "      <td id=\"T_84771_row11_col0\" class=\"data row11 col0\" >CPU Jobs</td>\n",
       "      <td id=\"T_84771_row11_col1\" class=\"data row11 col1\" >-1</td>\n",
       "    </tr>\n",
       "    <tr>\n",
       "      <th id=\"T_84771_level0_row12\" class=\"row_heading level0 row12\" >12</th>\n",
       "      <td id=\"T_84771_row12_col0\" class=\"data row12 col0\" >Use GPU</td>\n",
       "      <td id=\"T_84771_row12_col1\" class=\"data row12 col1\" >False</td>\n",
       "    </tr>\n",
       "    <tr>\n",
       "      <th id=\"T_84771_level0_row13\" class=\"row_heading level0 row13\" >13</th>\n",
       "      <td id=\"T_84771_row13_col0\" class=\"data row13 col0\" >Log Experiment</td>\n",
       "      <td id=\"T_84771_row13_col1\" class=\"data row13 col1\" >False</td>\n",
       "    </tr>\n",
       "    <tr>\n",
       "      <th id=\"T_84771_level0_row14\" class=\"row_heading level0 row14\" >14</th>\n",
       "      <td id=\"T_84771_row14_col0\" class=\"data row14 col0\" >Experiment Name</td>\n",
       "      <td id=\"T_84771_row14_col1\" class=\"data row14 col1\" >cluster-default-name</td>\n",
       "    </tr>\n",
       "    <tr>\n",
       "      <th id=\"T_84771_level0_row15\" class=\"row_heading level0 row15\" >15</th>\n",
       "      <td id=\"T_84771_row15_col0\" class=\"data row15 col0\" >USI</td>\n",
       "      <td id=\"T_84771_row15_col1\" class=\"data row15 col1\" >6d26</td>\n",
       "    </tr>\n",
       "  </tbody>\n",
       "</table>\n"
      ],
      "text/plain": [
       "<pandas.io.formats.style.Styler at 0x237752b7550>"
      ]
     },
     "metadata": {},
     "output_type": "display_data"
    },
    {
     "data": {
      "text/html": [],
      "text/plain": [
       "<IPython.core.display.HTML object>"
      ]
     },
     "metadata": {},
     "output_type": "display_data"
    },
    {
     "data": {
      "text/html": [
       "<style type=\"text/css\">\n",
       "</style>\n",
       "<table id=\"T_0e0cf\">\n",
       "  <thead>\n",
       "    <tr>\n",
       "      <th class=\"blank level0\" >&nbsp;</th>\n",
       "      <th id=\"T_0e0cf_level0_col0\" class=\"col_heading level0 col0\" >Silhouette</th>\n",
       "      <th id=\"T_0e0cf_level0_col1\" class=\"col_heading level0 col1\" >Calinski-Harabasz</th>\n",
       "      <th id=\"T_0e0cf_level0_col2\" class=\"col_heading level0 col2\" >Davies-Bouldin</th>\n",
       "      <th id=\"T_0e0cf_level0_col3\" class=\"col_heading level0 col3\" >Homogeneity</th>\n",
       "      <th id=\"T_0e0cf_level0_col4\" class=\"col_heading level0 col4\" >Rand Index</th>\n",
       "      <th id=\"T_0e0cf_level0_col5\" class=\"col_heading level0 col5\" >Completeness</th>\n",
       "    </tr>\n",
       "  </thead>\n",
       "  <tbody>\n",
       "    <tr>\n",
       "      <th id=\"T_0e0cf_level0_row0\" class=\"row_heading level0 row0\" >0</th>\n",
       "      <td id=\"T_0e0cf_row0_col0\" class=\"data row0 col0\" >0.1972</td>\n",
       "      <td id=\"T_0e0cf_row0_col1\" class=\"data row0 col1\" >25.6451</td>\n",
       "      <td id=\"T_0e0cf_row0_col2\" class=\"data row0 col2\" >1.7094</td>\n",
       "      <td id=\"T_0e0cf_row0_col3\" class=\"data row0 col3\" >0</td>\n",
       "      <td id=\"T_0e0cf_row0_col4\" class=\"data row0 col4\" >0</td>\n",
       "      <td id=\"T_0e0cf_row0_col5\" class=\"data row0 col5\" >0</td>\n",
       "    </tr>\n",
       "  </tbody>\n",
       "</table>\n"
      ],
      "text/plain": [
       "<pandas.io.formats.style.Styler at 0x23775318650>"
      ]
     },
     "metadata": {},
     "output_type": "display_data"
    },
    {
     "data": {
      "application/vnd.jupyter.widget-view+json": {
       "model_id": "6c6f06555b7b4f24907f14abc230392b",
       "version_major": 2,
       "version_minor": 0
      },
      "text/plain": [
       "Processing:   0%|          | 0/3 [00:00<?, ?it/s]"
      ]
     },
     "metadata": {},
     "output_type": "display_data"
    }
   ],
   "source": [
    "setup(all_df, session_id=901)\n",
    "kmeans = create_model('kmeans', num_clusters=8)\n",
    "model = assign_model(kmeans)"
   ]
  },
  {
   "cell_type": "code",
   "execution_count": 5,
   "id": "d096be2c-6779-4270-ac90-60bb4eef52bc",
   "metadata": {},
   "outputs": [],
   "source": [
    "final_df = predict_model(kmeans, data=all_df)"
   ]
  },
  {
   "cell_type": "code",
   "execution_count": 6,
   "id": "6b255319-d904-4061-90ed-e28c934dc59c",
   "metadata": {},
   "outputs": [],
   "source": [
    "cluster_descriptions = {}\n",
    "for cluster_id in final_df['Cluster'].unique():\n",
    "    cluster_df = final_df[final_df['Cluster'] == cluster_id]\n",
    "    summary = \"\"\n",
    "    for column in final_df:\n",
    "        if column == 'Cluster':\n",
    "            continue\n",
    "\n",
    "        value_counts = cluster_df[column].value_counts()\n",
    "        value_counts_str = ', '.join([f\"{idx}: {cnt}\" for idx, cnt in value_counts.items()])\n",
    "        summary += f\"{column} - {value_counts_str}\\n\"\n",
    "\n",
    "    cluster_descriptions[cluster_id] = summary"
   ]
  },
  {
   "cell_type": "code",
   "execution_count": 9,
   "id": "4707a40a-5e1e-48ea-8da8-10b8dd361c02",
   "metadata": {},
   "outputs": [],
   "source": [
    "prompt = \"Użyliśmy algorytmu klastrowania.\"\n",
    "for cluster_id, description in cluster_descriptions.items():\n",
    "    prompt += f\"\\n\\nKlaster {cluster_id}:\\n{description}\"\n",
    "\n",
    "prompt += \"\"\"\n",
    "Wygeneruj najlepsze nazwy dla każdego z klasterów oraz ich opisy\n",
    "\n",
    "Użyj formatu JSON. Przykładowo:\n",
    "{\n",
    "    \"Cluster 0\": {\n",
    "        \"name\": \"Klaster 0\",\n",
    "        \"description\": \"W tym klastrze znajdują się osoby, które...\"\n",
    "    },\n",
    "    \"Cluster 1\": {\n",
    "        \"name\": \"Klaster 1\",\n",
    "        \"description\": \"W tym klastrze znajdują się osoby, które...\"\n",
    "    }\n",
    "}\n",
    "\"\"\""
   ]
  },
  {
   "cell_type": "code",
   "execution_count": 10,
   "id": "f444f936-5d68-495b-b604-ef9fb61cc06a",
   "metadata": {},
   "outputs": [],
   "source": [
    "response = openai_client.chat.completions.create(\n",
    "    model=\"gpt-4o\",\n",
    "    temperature=0,\n",
    "    messages=[\n",
    "        {\n",
    "            \"role\": \"user\",\n",
    "            \"content\": [{\"type\": \"text\", \"text\": prompt}],\n",
    "        }\n",
    "    ],\n",
    ")"
   ]
  },
  {
   "cell_type": "code",
   "execution_count": 11,
   "id": "f020cc93-e59e-45cd-9c01-d25d55385057",
   "metadata": {},
   "outputs": [],
   "source": [
    "result = response.choices[0].message.content.replace(\"```json\", \"\").replace(\"```\", \"\").strip()\n",
    "cluster_names_and_descriptions = json.loads(result)"
   ]
  },
  {
   "cell_type": "code",
   "execution_count": 12,
   "id": "94228a0a-ebfd-46dd-986f-894cf8633c92",
   "metadata": {},
   "outputs": [],
   "source": [
    "with open(\"cluster_names_and_descriptions.json\", \"w\") as f:\n",
    "    f.write(json.dumps(cluster_names_and_descriptions))"
   ]
  },
  {
   "cell_type": "code",
   "execution_count": null,
   "id": "469ecf63-1190-4c89-b03b-7c13045ffc40",
   "metadata": {},
   "outputs": [],
   "source": []
  }
 ],
 "metadata": {
  "kernelspec": {
   "display_name": "Python 3 (ipykernel)",
   "language": "python",
   "name": "python3"
  },
  "language_info": {
   "codemirror_mode": {
    "name": "ipython",
    "version": 3
   },
   "file_extension": ".py",
   "mimetype": "text/x-python",
   "name": "python",
   "nbconvert_exporter": "python",
   "pygments_lexer": "ipython3",
   "version": "3.11.11"
  }
 },
 "nbformat": 4,
 "nbformat_minor": 5
}
